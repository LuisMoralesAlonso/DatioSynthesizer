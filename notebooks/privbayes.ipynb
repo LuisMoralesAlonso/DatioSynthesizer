{
 "cells": [
  {
   "cell_type": "code",
   "execution_count": 234,
   "metadata": {},
   "outputs": [],
   "source": [
    "import dask\n",
    "import dask.dataframe as df\n",
    "import numpy as np\n",
    "import pandas as pd\n",
    "from scipy import sparse as sp\n",
    "from math import log\n",
    "from collections import Counter\n",
    "adultos = df.read_csv('../data/adult_ssn.csv')\n",
    "np.random.seed(0)"
   ]
  },
  {
   "cell_type": "code",
   "execution_count": 126,
   "metadata": {},
   "outputs": [
    {
     "name": "stdout",
     "output_type": "stream",
     "text": [
      "[1 2 3]\n",
      "[0 1 2 2 1 0]\n",
      "[4 5]\n",
      "[0 1 0 0 1 1]\n"
     ]
    },
    {
     "data": {
      "text/plain": [
       "[1, 2, 3]"
      ]
     },
     "execution_count": 126,
     "metadata": {},
     "output_type": "execute_result"
    }
   ],
   "source": [
    "true_classes, true_idx =np.unique([1,2,3,3,2,1], return_inverse=True)\n",
    "print(true_classes)\n",
    "print(true_idx)\n",
    "pred_classes, pred_idx =np.unique([4,5,4,4,5,5], return_inverse=True)\n",
    "print(pred_classes)\n",
    "print(pred_idx)\n",
    "n_classes = true_classes.shape[0]\n",
    "n_preds = pred_classes.shape[0]\n",
    "true_classes.tolist()"
   ]
  },
  {
   "cell_type": "code",
   "execution_count": 127,
   "metadata": {},
   "outputs": [
    {
     "name": "stdout",
     "output_type": "stream",
     "text": [
      "  (0, 0)\t1\n",
      "  (1, 1)\t1\n",
      "  (2, 0)\t1\n",
      "  (2, 0)\t1\n",
      "  (1, 1)\t1\n",
      "  (0, 1)\t1\n"
     ]
    }
   ],
   "source": [
    "contingency = sp.coo_matrix((np.ones(true_idx.shape[0]),\n",
    "                                 (true_idx, pred_idx)),\n",
    "                                shape=(n_classes, n_preds),\n",
    "                                dtype=np.int)\n",
    "print(contingency)"
   ]
  },
  {
   "cell_type": "code",
   "execution_count": 253,
   "metadata": {},
   "outputs": [
    {
     "name": "stdout",
     "output_type": "stream",
     "text": [
      "[0 2 0 1]\n",
      "[0 0 1 1]\n",
      "[1 2 1 2]\n"
     ]
    },
    {
     "data": {
      "text/plain": [
       "array([0, 2, 0, 1], dtype=int32)"
      ]
     },
     "execution_count": 253,
     "metadata": {},
     "output_type": "execute_result"
    }
   ],
   "source": [
    "nzx, nzy, nz_val = sp.find(contingency)\n",
    "print(nzx)\n",
    "print(nzy)\n",
    "print(nz_val)\n",
    "nzx"
   ]
  },
  {
   "cell_type": "code",
   "execution_count": 129,
   "metadata": {},
   "outputs": [
    {
     "name": "stdout",
     "output_type": "stream",
     "text": [
      "6\n",
      "[2 2 2]\n",
      "[3 3]\n"
     ]
    }
   ],
   "source": [
    "contingency_sum = contingency.sum()\n",
    "print(contingency_sum)\n",
    "pi = np.ravel(contingency.sum(axis=1))\n",
    "print(pi)\n",
    "pj = np.ravel(contingency.sum(axis=0))\n",
    "print(pj)"
   ]
  },
  {
   "cell_type": "code",
   "execution_count": 130,
   "metadata": {},
   "outputs": [
    {
     "name": "stdout",
     "output_type": "stream",
     "text": [
      "[0.         0.69314718 0.         0.69314718]\n",
      "[0.16666667 0.33333333 0.16666667 0.33333333]\n",
      "[2 2 2 2]\n",
      "[6 6 6 6]\n",
      "[3 3 3 3]\n",
      "0.4620981203732969\n"
     ]
    }
   ],
   "source": [
    "log_contingency_nm = np.log(nz_val)\n",
    "print(log_contingency_nm)\n",
    "contingency_nm = nz_val / contingency_sum\n",
    "print(contingency_nm)\n",
    "# Don't need to calculate the full outer product, just for non-zeroes\n",
    "outer = pi.take(nzx).astype(np.int64) * pj.take(nzy).astype(np.int64)\n",
    "print(pi.take(nzx).astype(np.int64))\n",
    "print(outer)\n",
    "print(pj.take(nzy).astype(np.int64))\n",
    "log_outer = -np.log(outer) + log(pi.sum()) + log(pj.sum())\n",
    "mi = (contingency_nm * (log_contingency_nm - log(contingency_sum)) +\n",
    "          contingency_nm * log_outer)\n",
    "print(mi.sum())"
   ]
  },
  {
   "cell_type": "code",
   "execution_count": 166,
   "metadata": {},
   "outputs": [
    {
     "name": "stdout",
     "output_type": "stream",
     "text": [
      "[1 2 3]\n",
      "[0 1 2]\n",
      "[4 5]\n",
      "[0 1 0]\n",
      "\n",
      "[1 2 3]\n",
      "[2 1 0]\n",
      "[4 5]\n",
      "[0 1 1]\n"
     ]
    }
   ],
   "source": [
    "true_classes_1, true_idx_1 =np.unique([1,2,3], return_inverse=True)\n",
    "print(true_classes_1)\n",
    "print(true_idx_1)\n",
    "pred_classes_1, pred_idx_1 =np.unique([4,5,4], return_inverse=True)\n",
    "print(pred_classes_1)\n",
    "print(pred_idx_1)\n",
    "n_classes_1 = true_classes_1.shape[0]\n",
    "n_preds_1 = pred_classes_1.shape[0]\n",
    "print()\n",
    "true_classes_2, true_idx_2 =np.unique([3,2,1], return_inverse=True)\n",
    "print(true_classes_2)\n",
    "print(true_idx_2)\n",
    "pred_classes_2, pred_idx_2 =np.unique([4,5,5], return_inverse=True)\n",
    "print(pred_classes_2)\n",
    "print(pred_idx_2)\n",
    "n_classes_2 = true_classes_2.shape[0]\n",
    "n_preds_2 = pred_classes_2.shape[0]"
   ]
  },
  {
   "cell_type": "code",
   "execution_count": 142,
   "metadata": {},
   "outputs": [
    {
     "name": "stdout",
     "output_type": "stream",
     "text": [
      "[[1 0]\n",
      " [0 1]\n",
      " [1 0]]\n",
      "[[0 1]\n",
      " [0 1]\n",
      " [1 0]]\n"
     ]
    }
   ],
   "source": [
    "contingency_1 = sp.coo_matrix((np.ones(true_idx_1.shape[0]),\n",
    "                                 (true_idx_1, pred_idx_1)),\n",
    "                                shape=(n_classes_1, n_preds_1),\n",
    "                                dtype=np.int)\n",
    "print(contingency_1.todense())\n",
    "\n",
    "contingency_2 = sp.coo_matrix((np.ones(true_idx_2.shape[0]),\n",
    "                                 (true_idx_2, pred_idx_2)),\n",
    "                                shape=(n_classes_2, n_preds_2),\n",
    "                                dtype=np.int)\n",
    "print(contingency_2.todense())"
   ]
  },
  {
   "cell_type": "code",
   "execution_count": 153,
   "metadata": {},
   "outputs": [
    {
     "name": "stdout",
     "output_type": "stream",
     "text": [
      "[0 2 1]\n",
      "[0 0 1]\n",
      "[1 1 1]\n",
      "\n",
      "[2 0 1]\n",
      "[0 1 1]\n",
      "[1 1 1]\n"
     ]
    }
   ],
   "source": [
    "nzx_1, nzy_1, nz_val_1 = sp.find(contingency_1)\n",
    "print(nzx_1)\n",
    "print(nzy_1)\n",
    "print(nz_val_1)\n",
    "print()\n",
    "nzx_2, nzy_2, nz_val_2 = sp.find(contingency_2)\n",
    "print(nzx_2)\n",
    "print(nzy_2)\n",
    "print(nz_val_2)"
   ]
  },
  {
   "cell_type": "code",
   "execution_count": 134,
   "metadata": {},
   "outputs": [
    {
     "name": "stdout",
     "output_type": "stream",
     "text": [
      "6\n"
     ]
    }
   ],
   "source": [
    "contingency_sum = contingency_1.sum() + contingency_2.sum()\n",
    "print(contingency_sum)"
   ]
  },
  {
   "cell_type": "code",
   "execution_count": 135,
   "metadata": {},
   "outputs": [
    {
     "name": "stdout",
     "output_type": "stream",
     "text": [
      "[1 1 1]\n",
      "[2 1]\n",
      "[1 1 1]\n",
      "[1 2]\n"
     ]
    }
   ],
   "source": [
    "pi_1 = np.ravel(contingency_1.sum(axis=1))\n",
    "print(pi_1)\n",
    "pj_1 = np.ravel(contingency_1.sum(axis=0))\n",
    "print(pj_1)\n",
    "\n",
    "pi_2 = np.ravel(contingency_2.sum(axis=1))\n",
    "print(pi_2)\n",
    "pj_2 = np.ravel(contingency_2.sum(axis=0))\n",
    "print(pj_2)"
   ]
  },
  {
   "cell_type": "code",
   "execution_count": 136,
   "metadata": {},
   "outputs": [
    {
     "data": {
      "text/plain": [
       "3"
      ]
     },
     "execution_count": 136,
     "metadata": {},
     "output_type": "execute_result"
    }
   ],
   "source": [
    "lista = [1,2,3]\n",
    "lista[2]"
   ]
  },
  {
   "cell_type": "code",
   "execution_count": 324,
   "metadata": {},
   "outputs": [],
   "source": [
    "pi_dask = [0,0,0]\n",
    "for index, clase in enumerate(true_classes):\n",
    "    try:\n",
    "        index_clase_1 =true_classes_1.tolist().index(clase)\n",
    "    except (IndexError, ValueError):\n",
    "        index_clase_1 = None\n",
    "    \n",
    "    try:\n",
    "        index_clase_2 =true_classes_2.tolist().index(clase)\n",
    "    except (IndexError, ValueError):\n",
    "        index_clase_2 = None\n",
    "    \n",
    "    if index_clase_1 is not None:\n",
    "        pi_dask[index] = pi_dask[index] + pi_1[true_classes_1.tolist().index(clase)]\n",
    "    if index_clase_2 is not None:\n",
    "        pi_dask[index] = pi_dask[index] + pi_2[true_classes_2.tolist().index(clase)]"
   ]
  },
  {
   "cell_type": "code",
   "execution_count": 325,
   "metadata": {},
   "outputs": [
    {
     "data": {
      "text/plain": [
       "[2, 2, 2]"
      ]
     },
     "execution_count": 325,
     "metadata": {},
     "output_type": "execute_result"
    }
   ],
   "source": [
    "pi_dask"
   ]
  },
  {
   "cell_type": "code",
   "execution_count": 318,
   "metadata": {},
   "outputs": [],
   "source": [
    "@dask.delayed\n",
    "def gen_pi_dask(mi_delayed_list: list, true_classes_len: int):\n",
    "    pi_dask = [0 for i in range(true_classes_len)]\n",
    "    for index, clase in enumerate(true_classes):\n",
    "        for mi_delayed in mi_delayed_list:\n",
    "            try:\n",
    "                index_clase =mi_delayed['true_classes'].tolist().index(clase)\n",
    "            except (IndexError, ValueError):\n",
    "                index_clase = None\n",
    "            if index_clase is not None:\n",
    "                pi_dask[index] = pi_dask[index] + mi_delayed['pi'][mi_delayed['true_classes'].tolist().index(clase)]\n",
    "    return pi_dask"
   ]
  },
  {
   "cell_type": "code",
   "execution_count": 138,
   "metadata": {},
   "outputs": [
    {
     "data": {
      "text/plain": [
       "[2, 2, 2]"
      ]
     },
     "execution_count": 138,
     "metadata": {},
     "output_type": "execute_result"
    }
   ],
   "source": [
    "pi_dask"
   ]
  },
  {
   "cell_type": "code",
   "execution_count": 139,
   "metadata": {},
   "outputs": [],
   "source": [
    "pj_dask = [0,0]\n",
    "for index, clase in enumerate(pred_classes):\n",
    "    try:\n",
    "        index_clase_1 =pred_classes_1.tolist().index(clase)\n",
    "    except (IndexError, ValueError):\n",
    "        index_clase_1 = None\n",
    "    \n",
    "    try:\n",
    "        index_clase_2 =pred_classes_2.tolist().index(clase)\n",
    "    except (IndexError, ValueError):\n",
    "        index_clase_2 = None\n",
    "    \n",
    "    if index_clase_1 is not None:\n",
    "        pj_dask[index] = pj_dask[index] + pj_1[pred_classes_1.tolist().index(clase)]\n",
    "    if index_clase_2 is not None:\n",
    "        pj_dask[index] = pj_dask[index] + pj_2[pred_classes_2.tolist().index(clase)]"
   ]
  },
  {
   "cell_type": "code",
   "execution_count": null,
   "metadata": {},
   "outputs": [],
   "source": [
    "@dask.delayed\n",
    "def gen_pj_dask(mi_delayed_list: list, pred_classes_len: int):\n",
    "    pj_dask = [0 for i in range(pred_classes_len)]\n",
    "    for index, clase in enumerate(pred_classes):\n",
    "        for mi_delayed in mi_delayed_list:\n",
    "            try:\n",
    "                index_clase =mi_delayed['pred_classes'].tolist().index(clase)\n",
    "            except (IndexError, ValueError):\n",
    "                index_clase = None\n",
    "            if index_clase is not None:\n",
    "                pi_dask[index] = pi_dask[index] + mi_delayed['pj'][mi_delayed['pred_classes'].tolist().index(clase)]\n",
    "    return pi_dask"
   ]
  },
  {
   "cell_type": "code",
   "execution_count": 140,
   "metadata": {},
   "outputs": [
    {
     "data": {
      "text/plain": [
       "[3, 3]"
      ]
     },
     "execution_count": 140,
     "metadata": {},
     "output_type": "execute_result"
    }
   ],
   "source": [
    "pj_dask"
   ]
  },
  {
   "cell_type": "code",
   "execution_count": 192,
   "metadata": {},
   "outputs": [],
   "source": [
    "true_nzx_1 = list(map(lambda x: true_classes_1[x], nzx_1.tolist()))\n",
    "true_nzy_1 = list(map(lambda x: pred_classes_1[x], nzy_1.tolist()))\n",
    "true_nz_val_1 = nz_val_1.tolist()\n",
    "true_nzx_2 = list(map(lambda x: true_classes_1[x], nzx_2.tolist()))\n",
    "true_nzy_2 = list(map(lambda x: pred_classes_2[x], nzy_2.tolist()))\n",
    "true_nz_val_2 = nz_val_2.tolist()"
   ]
  },
  {
   "cell_type": "code",
   "execution_count": 181,
   "metadata": {},
   "outputs": [],
   "source": [
    "cross_clusters_1 = list(zip(zip(true_nzx_1,true_nzy_1),true_nz_val_1))\n",
    "cross_clusters_2 = list(zip(zip(true_nzx_2,true_nzy_2),true_nz_val_2))"
   ]
  },
  {
   "cell_type": "code",
   "execution_count": 211,
   "metadata": {},
   "outputs": [
    {
     "data": {
      "text/plain": [
       "{(1, 4): 1, (1, 5): 1, (2, 5): 2, (3, 4): 2}"
      ]
     },
     "execution_count": 211,
     "metadata": {},
     "output_type": "execute_result"
    }
   ],
   "source": [
    "cross_clusters = dict(Counter(dict(cross_clusters_1)) + Counter(dict(cross_clusters_2)))\n",
    "cross_clusters"
   ]
  },
  {
   "cell_type": "code",
   "execution_count": 206,
   "metadata": {},
   "outputs": [],
   "source": [
    "true_nzx_1_np = np.array(list(map(lambda x: true_classes_1[x], nzx_1)))\n",
    "true_nzy_1_np = np.array(list(map(lambda x: pred_classes_1[x], nzy_1)))\n",
    "true_nz_val_1 = nz_val_1\n",
    "true_nzx_2_np = np.array(list(map(lambda x: true_classes_1[x], nzx_2)))\n",
    "true_nzy_2_np = np.array(list(map(lambda x: pred_classes_2[x], nzy_2)))\n",
    "true_nz_val_2 = nz_val_2"
   ]
  },
  {
   "cell_type": "code",
   "execution_count": 210,
   "metadata": {},
   "outputs": [],
   "source": [
    "cross_clusters_1_np = list(zip(zip(true_nzx_1_np,true_nzy_1_np),true_nz_val_1))\n",
    "cross_clusters_2_np = list(zip(zip(true_nzx_2_np,true_nzy_2_np),true_nz_val_2))"
   ]
  },
  {
   "cell_type": "code",
   "execution_count": 212,
   "metadata": {},
   "outputs": [
    {
     "data": {
      "text/plain": [
       "{(1, 4): 1, (1, 5): 1, (2, 5): 2, (3, 4): 2}"
      ]
     },
     "execution_count": 212,
     "metadata": {},
     "output_type": "execute_result"
    }
   ],
   "source": [
    "cross_clusters = dict(Counter(dict(cross_clusters_1_np)) + Counter(dict(cross_clusters_2_np)))\n",
    "cross_clusters"
   ]
  },
  {
   "cell_type": "code",
   "execution_count": 249,
   "metadata": {},
   "outputs": [],
   "source": [
    "def map_to_global_indexes(nz_val: tuple, trues, preds):\n",
    "    x = np.where(trues==nz_val[0])[0].tolist()[0]\n",
    "    y = np.where(preds==nz_val[1])[0].tolist()[0]\n",
    "    return (x,y)"
   ]
  },
  {
   "cell_type": "code",
   "execution_count": 255,
   "metadata": {},
   "outputs": [
    {
     "data": {
      "text/plain": [
       "[(0, 0), (2, 0), (1, 1), (0, 1)]"
      ]
     },
     "execution_count": 255,
     "metadata": {},
     "output_type": "execute_result"
    }
   ],
   "source": [
    "coords_cross = list(map(lambda x: map_to_global_indexes(x, true_classes, pred_classes),list(cross_clusters.keys())))\n",
    "coords_cross"
   ]
  },
  {
   "cell_type": "code",
   "execution_count": 279,
   "metadata": {},
   "outputs": [],
   "source": [
    "nzx_dask, nzy_dask, nz_val_dask = np.array([], dtype=np.int64),np.array([], dtype=np.int64),np.array([], dtype=np.int64)\n",
    "#for key in cross_clusters.keys():\n",
    "    "
   ]
  },
  {
   "cell_type": "code",
   "execution_count": 321,
   "metadata": {},
   "outputs": [],
   "source": [
    "@dask.delayed\n",
    "def gen_nzx_nzy_nzval_dask(mi_delayed_list: list):\n",
    "    nzx_dask, nzy_dask, nz_val_dask = np.array([], dtype=np.int64),np.array([], dtype=np.int64),np.array([], dtype=np.int64)\n",
    "    cross_clusters_list = []\n",
    "    for mi_delayed in mi_delayed_list:\n",
    "        true_nzx_np = np.array(list(map(lambda x: mi_delayed['true_classes'][x], mi_delayed['nzx'])))\n",
    "        true_nzy_np = np.array(list(map(lambda x: mi_delayed['pred_classes'][x], mi_delayed['nzy'])))\n",
    "        true_nz_val = mi_delayed['nz_val']\n",
    "        cross_clusters_list.append(Counter(dict(list(zip(zip(true_nzx_np,true_nzy_np),true_nz_val)))))\n",
    "    cross_clusters = dict(sum(cross_clusters_list))\n",
    "    #coords_cross = list(map(lambda x: map_to_global_indexes(x, true_classes, pred_classes),list(cross_clusters.keys())))\n",
    "    for key in cross_clusters.keys():\n",
    "        nzx_dask = np.append(nzx_dask, true_classes.tolist().index(key[0]))\n",
    "        nzy_dask = np.append(nzy_dask, pred_classes.tolist().index(key[1]))\n",
    "        nz_val_dask = np.append(nz_val_dask, cross_clusters[key])\n",
    "    return nzx_dask, nzy_dask, nz_val_dask"
   ]
  },
  {
   "cell_type": "code",
   "execution_count": null,
   "metadata": {},
   "outputs": [],
   "source": []
  },
  {
   "cell_type": "code",
   "execution_count": 281,
   "metadata": {},
   "outputs": [],
   "source": [
    "for key in cross_clusters.keys():\n",
    "    nzx_dask = np.append(nzx_dask, true_classes.tolist().index(key[0]))\n",
    "    nzy_dask = np.append(nzy_dask, pred_classes.tolist().index(key[1]))\n",
    "    nz_val_dask = np.append(nz_val_dask, cross_clusters[key])"
   ]
  },
  {
   "cell_type": "code",
   "execution_count": 282,
   "metadata": {},
   "outputs": [
    {
     "data": {
      "text/plain": [
       "array([0, 2, 1, 0])"
      ]
     },
     "execution_count": 282,
     "metadata": {},
     "output_type": "execute_result"
    }
   ],
   "source": [
    "nzx_dask\n"
   ]
  },
  {
   "cell_type": "code",
   "execution_count": 283,
   "metadata": {},
   "outputs": [
    {
     "data": {
      "text/plain": [
       "array([0, 0, 1, 1])"
      ]
     },
     "execution_count": 283,
     "metadata": {},
     "output_type": "execute_result"
    }
   ],
   "source": [
    "nzy_dask"
   ]
  },
  {
   "cell_type": "code",
   "execution_count": 284,
   "metadata": {},
   "outputs": [
    {
     "data": {
      "text/plain": [
       "array([1, 2, 2, 1])"
      ]
     },
     "execution_count": 284,
     "metadata": {},
     "output_type": "execute_result"
    }
   ],
   "source": [
    "nz_val_dask"
   ]
  },
  {
   "cell_type": "code",
   "execution_count": 286,
   "metadata": {},
   "outputs": [
    {
     "name": "stdout",
     "output_type": "stream",
     "text": [
      "[0.         0.69314718 0.69314718 0.        ]\n",
      "[0.16666667 0.33333333 0.33333333 0.16666667]\n",
      "[2 2 2 2]\n",
      "[6 6 6 6]\n",
      "[3 3 3 3]\n",
      "0.4620981203732969\n"
     ]
    }
   ],
   "source": [
    "log_contingency_nm_dask = np.log(nz_val_dask)\n",
    "print(log_contingency_nm_dask)\n",
    "contingency_nm_dask = nz_val_dask / contingency_sum\n",
    "print(contingency_nm_dask)\n",
    "# Don't need to calculate the full outer product, just for non-zeroes\n",
    "outer_dask = pi.take(nzx_dask).astype(np.int64) * pj.take(nzy_dask).astype(np.int64)\n",
    "print(pi.take(nzx_dask).astype(np.int64))\n",
    "print(outer_dask)\n",
    "print(pj.take(nzy_dask).astype(np.int64))\n",
    "log_outer_dask = -np.log(outer_dask) + log(sum(pi_dask)) + log(sum(pj_dask))\n",
    "mi_dask = (contingency_nm_dask * (log_contingency_nm_dask - log(contingency_sum)) +\n",
    "          contingency_nm_dask * log_outer_dask)\n",
    "print(mi_dask.sum())"
   ]
  },
  {
   "cell_type": "code",
   "execution_count": null,
   "metadata": {},
   "outputs": [],
   "source": [
    "[0.         0.69314718 0.         0.69314718]\n",
    "[0.16666667 0.33333333 0.16666667 0.33333333]\n",
    "[2 2 2 2]\n",
    "[6 6 6 6]\n",
    "[3 3 3 3]\n",
    "0.4620981203732969"
   ]
  },
  {
   "cell_type": "code",
   "execution_count": 308,
   "metadata": {},
   "outputs": [],
   "source": [
    "@dask.delayed\n",
    "def partition_mutual_info_score(true: pd.Series, pred: pd.Series):\n",
    "    datos = {}\n",
    "    true_classes, true_idx = np.unique(true, return_inverse=True)\n",
    "    datos['true_classes'] = true_classes\n",
    "    datos['true_idx'] = true_idx\n",
    "    print(true_classes)\n",
    "    print(true_idx)\n",
    "    pred_classes, pred_idx = np.unique(pred, return_inverse=True)\n",
    "    datos['pred_classes'] = pred_classes\n",
    "    datos['pred_idx'] = pred_idx\n",
    "    print(pred_classes)\n",
    "    print(pred_idx)\n",
    "    n_classes = true_classes.shape[0]\n",
    "    n_preds = pred_classes.shape[0]\n",
    "    datos['n_classes'] = n_classes\n",
    "    datos['n_preds'] = n_preds\n",
    "    contingency = sp.coo_matrix((np.ones(true_idx.shape[0]),\n",
    "                                 (true_idx, pred_idx)),\n",
    "                                shape=(n_classes, n_preds),\n",
    "                                dtype=np.int)\n",
    "    nzx, nzy, nz_val = sp.find(contingency)\n",
    "    print(nzx)\n",
    "    print(nzy)\n",
    "    print(nz_val)\n",
    "    datos['nzx'], datos['nzy'], datos['nz_val'] = nzx, nzy, nz_val\n",
    "    contingency_sum = contingency.sum()\n",
    "    print(contingency_sum)\n",
    "    datos['contingency_sum'] = contingency_sum\n",
    "    pi = np.ravel(contingency.sum(axis=1))\n",
    "    print(pi)\n",
    "    datos['pi'] = pi\n",
    "    pj = np.ravel(contingency.sum(axis=0))\n",
    "    print(pj)\n",
    "    datos['pj'] = pj\n",
    "    return datos"
   ]
  },
  {
   "cell_type": "code",
   "execution_count": 291,
   "metadata": {},
   "outputs": [
    {
     "name": "stdout",
     "output_type": "stream",
     "text": [
      "[1 2 3]\n",
      "[0 1 2]\n",
      "[4 5]\n",
      "[0 1 0]\n",
      "[0 2 1]\n",
      "[0 0 1]\n",
      "[1 1 1]\n",
      "3\n",
      "[1 1 1]\n",
      "[2 1]\n"
     ]
    }
   ],
   "source": [
    "datos_1 = partition_mutual_info_score([1,2,3], [4,5,4])"
   ]
  },
  {
   "cell_type": "code",
   "execution_count": 292,
   "metadata": {},
   "outputs": [
    {
     "name": "stdout",
     "output_type": "stream",
     "text": [
      "[1 2 3]\n",
      "[2 1 0]\n",
      "[4 5]\n",
      "[0 1 1]\n",
      "[2 0 1]\n",
      "[0 1 1]\n",
      "[1 1 1]\n",
      "3\n",
      "[1 1 1]\n",
      "[1 2]\n"
     ]
    }
   ],
   "source": [
    "datos_2 = partition_mutual_info_score([3,2,1], [4,5,5])"
   ]
  },
  {
   "cell_type": "code",
   "execution_count": 293,
   "metadata": {},
   "outputs": [],
   "source": [
    "delayes = [datos_1,datos_2]"
   ]
  },
  {
   "cell_type": "code",
   "execution_count": 319,
   "metadata": {},
   "outputs": [
    {
     "data": {
      "text/plain": [
       "[2, 2, 2]"
      ]
     },
     "execution_count": 319,
     "metadata": {},
     "output_type": "execute_result"
    }
   ],
   "source": [
    "gen_pi_dask(delayes, 3).compute()"
   ]
  },
  {
   "cell_type": "code",
   "execution_count": 294,
   "metadata": {},
   "outputs": [
    {
     "data": {
      "text/plain": [
       "[{'contingency_sum': 3,\n",
       "  'n_classes': 3,\n",
       "  'n_preds': 2,\n",
       "  'nz_val': array([1, 1, 1]),\n",
       "  'nzx': array([0, 2, 1], dtype=int32),\n",
       "  'nzy': array([0, 0, 1], dtype=int32),\n",
       "  'pi': array([1, 1, 1], dtype=int64),\n",
       "  'pj': array([2, 1], dtype=int64),\n",
       "  'pred_classes': array([4, 5]),\n",
       "  'pred_idx': array([0, 1, 0]),\n",
       "  'true_classes': array([1, 2, 3]),\n",
       "  'true_idx': array([0, 1, 2])},\n",
       " {'contingency_sum': 3,\n",
       "  'n_classes': 3,\n",
       "  'n_preds': 2,\n",
       "  'nz_val': array([1, 1, 1]),\n",
       "  'nzx': array([2, 0, 1], dtype=int32),\n",
       "  'nzy': array([0, 1, 1], dtype=int32),\n",
       "  'pi': array([1, 1, 1], dtype=int64),\n",
       "  'pj': array([1, 2], dtype=int64),\n",
       "  'pred_classes': array([4, 5]),\n",
       "  'pred_idx': array([0, 1, 1]),\n",
       "  'true_classes': array([1, 2, 3]),\n",
       "  'true_idx': array([2, 1, 0])}]"
      ]
     },
     "execution_count": 294,
     "metadata": {},
     "output_type": "execute_result"
    }
   ],
   "source": [
    "delayes"
   ]
  },
  {
   "cell_type": "code",
   "execution_count": 299,
   "metadata": {},
   "outputs": [],
   "source": [
    "true_serie = df.from_pandas(pd.Series([1,2,3,3,2,1]), npartitions=2)\n",
    "pred_serie = df.from_pandas(pd.Series([4,4,5,5,4,5]), npartitions=2)"
   ]
  },
  {
   "cell_type": "code",
   "execution_count": 309,
   "metadata": {},
   "outputs": [],
   "source": [
    "mi_delayed = [partition_mutual_info_score(true_serie.get_partition(i), pred_serie.get_partition(i)) for i in range(len(true_delayed))]"
   ]
  },
  {
   "cell_type": "code",
   "execution_count": 310,
   "metadata": {},
   "outputs": [
    {
     "data": {
      "text/plain": [
       "[Delayed('partition_mutual_info_score-057f2df2-b99f-4eb8-92d1-dfbf2e226ae8'),\n",
       " Delayed('partition_mutual_info_score-a1517822-df07-4517-a6a3-c4820fdf8f52')]"
      ]
     },
     "execution_count": 310,
     "metadata": {},
     "output_type": "execute_result"
    }
   ],
   "source": [
    "mi_delayed"
   ]
  },
  {
   "cell_type": "code",
   "execution_count": 323,
   "metadata": {},
   "outputs": [
    {
     "name": "stdout",
     "output_type": "stream",
     "text": [
      "[1 2 3]\n",
      "[1 2 3][2 1 0]\n",
      "\n",
      "[0 1 2]\n",
      "[4 5]\n",
      "[4 5][0 0 1]\n",
      "\n",
      "[1 0 1][0 1 2]\n",
      "\n",
      "[1 0 2][0 0 1]\n",
      "\n",
      "[0 1 1][1 1 1]\n",
      "\n",
      "[1 1 1]3\n",
      "\n",
      "3[1 1 1]\n",
      "\n",
      "[1 1 1][2 1]\n",
      "\n",
      "[1 2]\n"
     ]
    },
    {
     "ename": "TypeError",
     "evalue": "unsupported operand type(s) for +: 'int' and 'Counter'",
     "output_type": "error",
     "traceback": [
      "\u001b[0;31m---------------------------------------------------------------------------\u001b[0m",
      "\u001b[0;31mTypeError\u001b[0m                                 Traceback (most recent call last)",
      "\u001b[0;32m<ipython-input-323-0d1d0e056ab9>\u001b[0m in \u001b[0;36m<module>\u001b[0;34m()\u001b[0m\n\u001b[0;32m----> 1\u001b[0;31m \u001b[0mgen_nzx_nzy_nzval_dask\u001b[0m\u001b[0;34m(\u001b[0m\u001b[0mmi_delayed\u001b[0m\u001b[0;34m)\u001b[0m\u001b[0;34m.\u001b[0m\u001b[0mcompute\u001b[0m\u001b[0;34m(\u001b[0m\u001b[0;34m)\u001b[0m\u001b[0;34m\u001b[0m\u001b[0m\n\u001b[0m",
      "\u001b[0;32m~/miniconda3/envs/idp/lib/python3.6/site-packages/dask/base.py\u001b[0m in \u001b[0;36mcompute\u001b[0;34m(self, **kwargs)\u001b[0m\n\u001b[1;32m    141\u001b[0m         \u001b[0mdask\u001b[0m\u001b[0;34m.\u001b[0m\u001b[0mbase\u001b[0m\u001b[0;34m.\u001b[0m\u001b[0mcompute\u001b[0m\u001b[0;34m\u001b[0m\u001b[0m\n\u001b[1;32m    142\u001b[0m         \"\"\"\n\u001b[0;32m--> 143\u001b[0;31m         \u001b[0;34m(\u001b[0m\u001b[0mresult\u001b[0m\u001b[0;34m,\u001b[0m\u001b[0;34m)\u001b[0m \u001b[0;34m=\u001b[0m \u001b[0mcompute\u001b[0m\u001b[0;34m(\u001b[0m\u001b[0mself\u001b[0m\u001b[0;34m,\u001b[0m \u001b[0mtraverse\u001b[0m\u001b[0;34m=\u001b[0m\u001b[0;32mFalse\u001b[0m\u001b[0;34m,\u001b[0m \u001b[0;34m**\u001b[0m\u001b[0mkwargs\u001b[0m\u001b[0;34m)\u001b[0m\u001b[0;34m\u001b[0m\u001b[0m\n\u001b[0m\u001b[1;32m    144\u001b[0m         \u001b[0;32mreturn\u001b[0m \u001b[0mresult\u001b[0m\u001b[0;34m\u001b[0m\u001b[0m\n\u001b[1;32m    145\u001b[0m \u001b[0;34m\u001b[0m\u001b[0m\n",
      "\u001b[0;32m~/miniconda3/envs/idp/lib/python3.6/site-packages/dask/base.py\u001b[0m in \u001b[0;36mcompute\u001b[0;34m(*args, **kwargs)\u001b[0m\n\u001b[1;32m    390\u001b[0m     postcomputes = [a.__dask_postcompute__() if is_dask_collection(a)\n\u001b[1;32m    391\u001b[0m                     else (None, a) for a in args]\n\u001b[0;32m--> 392\u001b[0;31m     \u001b[0mresults\u001b[0m \u001b[0;34m=\u001b[0m \u001b[0mget\u001b[0m\u001b[0;34m(\u001b[0m\u001b[0mdsk\u001b[0m\u001b[0;34m,\u001b[0m \u001b[0mkeys\u001b[0m\u001b[0;34m,\u001b[0m \u001b[0;34m**\u001b[0m\u001b[0mkwargs\u001b[0m\u001b[0;34m)\u001b[0m\u001b[0;34m\u001b[0m\u001b[0m\n\u001b[0m\u001b[1;32m    393\u001b[0m     \u001b[0mresults_iter\u001b[0m \u001b[0;34m=\u001b[0m \u001b[0miter\u001b[0m\u001b[0;34m(\u001b[0m\u001b[0mresults\u001b[0m\u001b[0;34m)\u001b[0m\u001b[0;34m\u001b[0m\u001b[0m\n\u001b[1;32m    394\u001b[0m     return tuple(a if f is None else f(next(results_iter), *a)\n",
      "\u001b[0;32m~/miniconda3/envs/idp/lib/python3.6/site-packages/dask/threaded.py\u001b[0m in \u001b[0;36mget\u001b[0;34m(dsk, result, cache, num_workers, **kwargs)\u001b[0m\n\u001b[1;32m     73\u001b[0m     results = get_async(pool.apply_async, len(pool._pool), dsk, result,\n\u001b[1;32m     74\u001b[0m                         \u001b[0mcache\u001b[0m\u001b[0;34m=\u001b[0m\u001b[0mcache\u001b[0m\u001b[0;34m,\u001b[0m \u001b[0mget_id\u001b[0m\u001b[0;34m=\u001b[0m\u001b[0m_thread_get_id\u001b[0m\u001b[0;34m,\u001b[0m\u001b[0;34m\u001b[0m\u001b[0m\n\u001b[0;32m---> 75\u001b[0;31m                         pack_exception=pack_exception, **kwargs)\n\u001b[0m\u001b[1;32m     76\u001b[0m \u001b[0;34m\u001b[0m\u001b[0m\n\u001b[1;32m     77\u001b[0m     \u001b[0;31m# Cleanup pools associated to dead threads\u001b[0m\u001b[0;34m\u001b[0m\u001b[0;34m\u001b[0m\u001b[0m\n",
      "\u001b[0;32m~/miniconda3/envs/idp/lib/python3.6/site-packages/dask/local.py\u001b[0m in \u001b[0;36mget_async\u001b[0;34m(apply_async, num_workers, dsk, result, cache, get_id, rerun_exceptions_locally, pack_exception, raise_exception, callbacks, dumps, loads, **kwargs)\u001b[0m\n\u001b[1;32m    519\u001b[0m                         \u001b[0m_execute_task\u001b[0m\u001b[0;34m(\u001b[0m\u001b[0mtask\u001b[0m\u001b[0;34m,\u001b[0m \u001b[0mdata\u001b[0m\u001b[0;34m)\u001b[0m  \u001b[0;31m# Re-execute locally\u001b[0m\u001b[0;34m\u001b[0m\u001b[0m\n\u001b[1;32m    520\u001b[0m                     \u001b[0;32melse\u001b[0m\u001b[0;34m:\u001b[0m\u001b[0;34m\u001b[0m\u001b[0m\n\u001b[0;32m--> 521\u001b[0;31m                         \u001b[0mraise_exception\u001b[0m\u001b[0;34m(\u001b[0m\u001b[0mexc\u001b[0m\u001b[0;34m,\u001b[0m \u001b[0mtb\u001b[0m\u001b[0;34m)\u001b[0m\u001b[0;34m\u001b[0m\u001b[0m\n\u001b[0m\u001b[1;32m    522\u001b[0m                 \u001b[0mres\u001b[0m\u001b[0;34m,\u001b[0m \u001b[0mworker_id\u001b[0m \u001b[0;34m=\u001b[0m \u001b[0mloads\u001b[0m\u001b[0;34m(\u001b[0m\u001b[0mres_info\u001b[0m\u001b[0;34m)\u001b[0m\u001b[0;34m\u001b[0m\u001b[0m\n\u001b[1;32m    523\u001b[0m                 \u001b[0mstate\u001b[0m\u001b[0;34m[\u001b[0m\u001b[0;34m'cache'\u001b[0m\u001b[0;34m]\u001b[0m\u001b[0;34m[\u001b[0m\u001b[0mkey\u001b[0m\u001b[0;34m]\u001b[0m \u001b[0;34m=\u001b[0m \u001b[0mres\u001b[0m\u001b[0;34m\u001b[0m\u001b[0m\n",
      "\u001b[0;32m~/miniconda3/envs/idp/lib/python3.6/site-packages/dask/compatibility.py\u001b[0m in \u001b[0;36mreraise\u001b[0;34m(exc, tb)\u001b[0m\n\u001b[1;32m     65\u001b[0m         \u001b[0;32mif\u001b[0m \u001b[0mexc\u001b[0m\u001b[0;34m.\u001b[0m\u001b[0m__traceback__\u001b[0m \u001b[0;32mis\u001b[0m \u001b[0;32mnot\u001b[0m \u001b[0mtb\u001b[0m\u001b[0;34m:\u001b[0m\u001b[0;34m\u001b[0m\u001b[0m\n\u001b[1;32m     66\u001b[0m             \u001b[0;32mraise\u001b[0m \u001b[0mexc\u001b[0m\u001b[0;34m.\u001b[0m\u001b[0mwith_traceback\u001b[0m\u001b[0;34m(\u001b[0m\u001b[0mtb\u001b[0m\u001b[0;34m)\u001b[0m\u001b[0;34m\u001b[0m\u001b[0m\n\u001b[0;32m---> 67\u001b[0;31m         \u001b[0;32mraise\u001b[0m \u001b[0mexc\u001b[0m\u001b[0;34m\u001b[0m\u001b[0m\n\u001b[0m\u001b[1;32m     68\u001b[0m \u001b[0;34m\u001b[0m\u001b[0m\n\u001b[1;32m     69\u001b[0m \u001b[0;32melse\u001b[0m\u001b[0;34m:\u001b[0m\u001b[0;34m\u001b[0m\u001b[0m\n",
      "\u001b[0;32m~/miniconda3/envs/idp/lib/python3.6/site-packages/dask/local.py\u001b[0m in \u001b[0;36mexecute_task\u001b[0;34m(key, task_info, dumps, loads, get_id, pack_exception)\u001b[0m\n\u001b[1;32m    288\u001b[0m     \u001b[0;32mtry\u001b[0m\u001b[0;34m:\u001b[0m\u001b[0;34m\u001b[0m\u001b[0m\n\u001b[1;32m    289\u001b[0m         \u001b[0mtask\u001b[0m\u001b[0;34m,\u001b[0m \u001b[0mdata\u001b[0m \u001b[0;34m=\u001b[0m \u001b[0mloads\u001b[0m\u001b[0;34m(\u001b[0m\u001b[0mtask_info\u001b[0m\u001b[0;34m)\u001b[0m\u001b[0;34m\u001b[0m\u001b[0m\n\u001b[0;32m--> 290\u001b[0;31m         \u001b[0mresult\u001b[0m \u001b[0;34m=\u001b[0m \u001b[0m_execute_task\u001b[0m\u001b[0;34m(\u001b[0m\u001b[0mtask\u001b[0m\u001b[0;34m,\u001b[0m \u001b[0mdata\u001b[0m\u001b[0;34m)\u001b[0m\u001b[0;34m\u001b[0m\u001b[0m\n\u001b[0m\u001b[1;32m    291\u001b[0m         \u001b[0mid\u001b[0m \u001b[0;34m=\u001b[0m \u001b[0mget_id\u001b[0m\u001b[0;34m(\u001b[0m\u001b[0;34m)\u001b[0m\u001b[0;34m\u001b[0m\u001b[0m\n\u001b[1;32m    292\u001b[0m         \u001b[0mresult\u001b[0m \u001b[0;34m=\u001b[0m \u001b[0mdumps\u001b[0m\u001b[0;34m(\u001b[0m\u001b[0;34m(\u001b[0m\u001b[0mresult\u001b[0m\u001b[0;34m,\u001b[0m \u001b[0mid\u001b[0m\u001b[0;34m)\u001b[0m\u001b[0;34m)\u001b[0m\u001b[0;34m\u001b[0m\u001b[0m\n",
      "\u001b[0;32m~/miniconda3/envs/idp/lib/python3.6/site-packages/dask/local.py\u001b[0m in \u001b[0;36m_execute_task\u001b[0;34m(arg, cache, dsk)\u001b[0m\n\u001b[1;32m    269\u001b[0m         \u001b[0mfunc\u001b[0m\u001b[0;34m,\u001b[0m \u001b[0margs\u001b[0m \u001b[0;34m=\u001b[0m \u001b[0marg\u001b[0m\u001b[0;34m[\u001b[0m\u001b[0;36m0\u001b[0m\u001b[0;34m]\u001b[0m\u001b[0;34m,\u001b[0m \u001b[0marg\u001b[0m\u001b[0;34m[\u001b[0m\u001b[0;36m1\u001b[0m\u001b[0;34m:\u001b[0m\u001b[0;34m]\u001b[0m\u001b[0;34m\u001b[0m\u001b[0m\n\u001b[1;32m    270\u001b[0m         \u001b[0margs2\u001b[0m \u001b[0;34m=\u001b[0m \u001b[0;34m[\u001b[0m\u001b[0m_execute_task\u001b[0m\u001b[0;34m(\u001b[0m\u001b[0ma\u001b[0m\u001b[0;34m,\u001b[0m \u001b[0mcache\u001b[0m\u001b[0;34m)\u001b[0m \u001b[0;32mfor\u001b[0m \u001b[0ma\u001b[0m \u001b[0;32min\u001b[0m \u001b[0margs\u001b[0m\u001b[0;34m]\u001b[0m\u001b[0;34m\u001b[0m\u001b[0m\n\u001b[0;32m--> 271\u001b[0;31m         \u001b[0;32mreturn\u001b[0m \u001b[0mfunc\u001b[0m\u001b[0;34m(\u001b[0m\u001b[0;34m*\u001b[0m\u001b[0margs2\u001b[0m\u001b[0;34m)\u001b[0m\u001b[0;34m\u001b[0m\u001b[0m\n\u001b[0m\u001b[1;32m    272\u001b[0m     \u001b[0;32melif\u001b[0m \u001b[0;32mnot\u001b[0m \u001b[0mishashable\u001b[0m\u001b[0;34m(\u001b[0m\u001b[0marg\u001b[0m\u001b[0;34m)\u001b[0m\u001b[0;34m:\u001b[0m\u001b[0;34m\u001b[0m\u001b[0m\n\u001b[1;32m    273\u001b[0m         \u001b[0;32mreturn\u001b[0m \u001b[0marg\u001b[0m\u001b[0;34m\u001b[0m\u001b[0m\n",
      "\u001b[0;32m<ipython-input-321-1deba0f3cfab>\u001b[0m in \u001b[0;36mgen_nzx_nzy_nzval_dask\u001b[0;34m(mi_delayed_list)\u001b[0m\n\u001b[1;32m      8\u001b[0m         \u001b[0mtrue_nz_val\u001b[0m \u001b[0;34m=\u001b[0m \u001b[0mmi_delayed\u001b[0m\u001b[0;34m[\u001b[0m\u001b[0;34m'nz_val'\u001b[0m\u001b[0;34m]\u001b[0m\u001b[0;34m\u001b[0m\u001b[0m\n\u001b[1;32m      9\u001b[0m         \u001b[0mcross_clusters_list\u001b[0m\u001b[0;34m.\u001b[0m\u001b[0mappend\u001b[0m\u001b[0;34m(\u001b[0m\u001b[0mCounter\u001b[0m\u001b[0;34m(\u001b[0m\u001b[0mdict\u001b[0m\u001b[0;34m(\u001b[0m\u001b[0mlist\u001b[0m\u001b[0;34m(\u001b[0m\u001b[0mzip\u001b[0m\u001b[0;34m(\u001b[0m\u001b[0mzip\u001b[0m\u001b[0;34m(\u001b[0m\u001b[0mtrue_nzx_np\u001b[0m\u001b[0;34m,\u001b[0m\u001b[0mtrue_nzy_np\u001b[0m\u001b[0;34m)\u001b[0m\u001b[0;34m,\u001b[0m\u001b[0mtrue_nz_val\u001b[0m\u001b[0;34m)\u001b[0m\u001b[0;34m)\u001b[0m\u001b[0;34m)\u001b[0m\u001b[0;34m)\u001b[0m\u001b[0;34m)\u001b[0m\u001b[0;34m\u001b[0m\u001b[0m\n\u001b[0;32m---> 10\u001b[0;31m     \u001b[0mcross_clusters\u001b[0m \u001b[0;34m=\u001b[0m \u001b[0mdict\u001b[0m\u001b[0;34m(\u001b[0m\u001b[0msum\u001b[0m\u001b[0;34m(\u001b[0m\u001b[0mcross_clusters_list\u001b[0m\u001b[0;34m)\u001b[0m\u001b[0;34m)\u001b[0m\u001b[0;34m\u001b[0m\u001b[0m\n\u001b[0m\u001b[1;32m     11\u001b[0m     \u001b[0;31m#coords_cross = list(map(lambda x: map_to_global_indexes(x, true_classes, pred_classes),list(cross_clusters.keys())))\u001b[0m\u001b[0;34m\u001b[0m\u001b[0;34m\u001b[0m\u001b[0m\n\u001b[1;32m     12\u001b[0m     \u001b[0;32mfor\u001b[0m \u001b[0mkey\u001b[0m \u001b[0;32min\u001b[0m \u001b[0mcross_clusters\u001b[0m\u001b[0;34m.\u001b[0m\u001b[0mkeys\u001b[0m\u001b[0;34m(\u001b[0m\u001b[0;34m)\u001b[0m\u001b[0;34m:\u001b[0m\u001b[0;34m\u001b[0m\u001b[0m\n",
      "\u001b[0;31mTypeError\u001b[0m: unsupported operand type(s) for +: 'int' and 'Counter'"
     ]
    }
   ],
   "source": [
    "gen_nzx_nzy_nzval_dask(mi_delayed).compute()"
   ]
  },
  {
   "cell_type": "code",
   "execution_count": 326,
   "metadata": {},
   "outputs": [],
   "source": [
    "a, b,c = [1,2,3]"
   ]
  },
  {
   "cell_type": "code",
   "execution_count": 327,
   "metadata": {},
   "outputs": [
    {
     "data": {
      "text/plain": [
       "1"
      ]
     },
     "execution_count": 327,
     "metadata": {},
     "output_type": "execute_result"
    }
   ],
   "source": [
    "a"
   ]
  },
  {
   "cell_type": "code",
   "execution_count": null,
   "metadata": {},
   "outputs": [],
   "source": []
  }
 ],
 "metadata": {
  "kernelspec": {
   "display_name": "Python 3",
   "language": "python",
   "name": "python3"
  },
  "language_info": {
   "codemirror_mode": {
    "name": "ipython",
    "version": 3
   },
   "file_extension": ".py",
   "mimetype": "text/x-python",
   "name": "python",
   "nbconvert_exporter": "python",
   "pygments_lexer": "ipython3",
   "version": "3.6.3"
  }
 },
 "nbformat": 4,
 "nbformat_minor": 2
}

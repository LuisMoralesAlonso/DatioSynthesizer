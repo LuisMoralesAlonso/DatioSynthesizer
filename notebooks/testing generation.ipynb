{
 "cells": [
  {
   "cell_type": "code",
   "execution_count": 3,
   "metadata": {},
   "outputs": [],
   "source": [
    "import dask\n",
    "import dask.dataframe as df\n",
    "import numpy as np\n",
    "import pandas as pd\n",
    "from scipy import sparse as sp\n",
    "from math import log\n",
    "from collections import Counter\n",
    "import functools \n",
    "import sklearn.metrics as metrics\n",
    "from itertools import combinations, product\n",
    "from string import ascii_lowercase"
   ]
  },
  {
   "cell_type": "code",
   "execution_count": 61,
   "metadata": {},
   "outputs": [],
   "source": [
    "def generate_random_string(length):\n",
    "    return ''.join(np.random.choice(list(ascii_lowercase), size=length))\n",
    "\n",
    "def generate_key_chunk(params: dict):\n",
    "    if params['type'] is 'SocialSecurityNumber':\n",
    "        intervals = np.linspace(1, 100 - 1, num=params['total_chunks']+1, dtype=int)\n",
    "        data = np.linspace(intervals[params['chunk_pos']], intervals[params['chunk_pos']+1]-1, num=params['chunk_size'], dtype=int)\n",
    "        data = np.random.permutation(data)\n",
    "        data = [str(i).zfill(9) for i in data]\n",
    "        data = list(map(lambda i: '{}-{}-{}'.format(i[:3], i[3:5], i[5:]), data))\n",
    "    elif params['type'] is 'String':\n",
    "        length = np.random.randint(params['min'], params['max'])\n",
    "        vectorized = np.vectorize(lambda x: '{}{}'.format(generate_random_string(length), x))\n",
    "        data = vectorized(np.arange(params['chunk_size']*params['chunk_pos'],params['chunk_size']*(1+params['chunk_pos'])))\n",
    "        data = np.random.permutation(data)\n",
    "    elif params['type'] is 'Integer':\n",
    "        intervals = np.linspace(params['min'], params['max'], num=params['total_chunks'] + 1, dtype=int)\n",
    "        data = np.random.randint(intervals[params['chunk_pos']], intervals[params['chunk_pos']+1]-1, params['chunk_size'])\n",
    "        data = np.random.permutation(data)\n",
    "    elif params['type'] is 'Float':\n",
    "        intervals = np.linspace(params['min'], params['max'], num=params['total_chunks'] + 1, dtype=int)\n",
    "        range = intervals[params['chunk_pos'] + 1] - 1 - intervals[params['chunk_pos']]\n",
    "        data = intervals[params['chunk_pos']] + np.random.sample(params['chunk_size']) * range\n",
    "        data = np.random.permutation(data)\n",
    "    else:\n",
    "        data = None\n",
    "    return data"
   ]
  },
  {
   "cell_type": "code",
   "execution_count": 63,
   "metadata": {},
   "outputs": [
    {
     "name": "stdout",
     "output_type": "stream",
     "text": [
      "[6.53744358 6.71369734 5.373277   8.44746327 3.5012268 ]\n",
      "[15.51483987 16.54633995 17.37912269 11.50983357 18.33387992]\n",
      "[20.68936001 25.80055178 25.91642913 26.17872838 22.50027394]\n",
      "[37.56987429 35.83783748 32.91388414 36.83023431 33.68182836]\n",
      "[45.56794357 40.71921355 40.3204783  47.42226992 40.97254688]\n",
      "[51.13994203 52.65091423 57.50709171 58.85285757 52.78084965]\n",
      "[67.98380339 63.36848163 60.63883066 66.09122452 66.82272295]\n",
      "[70.7980997  70.76811999 78.39623909 74.18458818 75.92325711]\n",
      "[82.72470253 86.11613707 84.24494217 85.24239939 81.71875638]\n"
     ]
    }
   ],
   "source": [
    "parametros = {}\n",
    "parametros['type'] = 'Float'\n",
    "parametros['chunk_size'] = 5\n",
    "parametros['total_chunks'] = 10\n",
    "parametros['min'] = 1\n",
    "parametros['max'] = 100\n",
    "#parametros['chunk_pos'] = 2 \n",
    "for i in np.arange(parametros['total_chunks']-1):\n",
    "    parametros['chunk_pos'] = i\n",
    "    values = generate_key_chunk(parametros)\n",
    "    print(values)"
   ]
  },
  {
   "cell_type": "code",
   "execution_count": 36,
   "metadata": {},
   "outputs": [
    {
     "data": {
      "text/plain": [
       "array([ 1, 10, 20, 30, 40, 50, 59, 69, 79, 89, 99])"
      ]
     },
     "execution_count": 36,
     "metadata": {},
     "output_type": "execute_result"
    }
   ],
   "source": [
    "np.linspace(1, 100 - 1, num=11, dtype=int)"
   ]
  },
  {
   "cell_type": "code",
   "execution_count": 43,
   "metadata": {},
   "outputs": [
    {
     "data": {
      "text/plain": [
       "14950"
      ]
     },
     "execution_count": 43,
     "metadata": {},
     "output_type": "execute_result"
    }
   ],
   "source": [
    "len(list(combinations(ascii_lowercase, 4)))"
   ]
  },
  {
   "cell_type": "code",
   "execution_count": null,
   "metadata": {},
   "outputs": [],
   "source": []
  }
 ],
 "metadata": {
  "kernelspec": {
   "display_name": "Python 3",
   "language": "python",
   "name": "python3"
  },
  "language_info": {
   "codemirror_mode": {
    "name": "ipython",
    "version": 3
   },
   "file_extension": ".py",
   "mimetype": "text/x-python",
   "name": "python",
   "nbconvert_exporter": "python",
   "pygments_lexer": "ipython3",
   "version": "3.6.3"
  }
 },
 "nbformat": 4,
 "nbformat_minor": 2
}

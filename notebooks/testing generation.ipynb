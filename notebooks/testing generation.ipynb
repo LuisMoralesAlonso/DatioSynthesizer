{
 "cells": [
  {
   "cell_type": "code",
   "execution_count": 3,
   "metadata": {},
   "outputs": [],
   "source": [
    "import dask\n",
    "import dask.dataframe as df\n",
    "import numpy as np\n",
    "import pandas as pd\n",
    "from scipy import sparse as sp\n",
    "from math import log\n",
    "from collections import Counter\n",
    "import functools \n",
    "import sklearn.metrics as metrics\n",
    "from itertools import combinations, product\n",
    "from string import ascii_lowercase"
   ]
  },
  {
   "cell_type": "code",
   "execution_count": 55,
   "metadata": {},
   "outputs": [],
   "source": [
    "def generate_random_string(length):\n",
    "    return ''.join(np.random.choice(list(ascii_lowercase), size=length))\n",
    "\n",
    "def generate_key_chunk(params: dict):\n",
    "    if params['type'] is 'SocialSecurityNumber':\n",
    "        intervals = np.linspace(1, 100 - 1, num=params['total_chunks']+1, dtype=int)\n",
    "        data = np.linspace(intervals[params['chunk_pos']], intervals[params['chunk_pos']+1]-1, num=params['chunk_size'], dtype=int)\n",
    "        data = np.random.permutation(data)\n",
    "        data = [str(i).zfill(9) for i in data]\n",
    "        data = list(map(lambda i: '{}-{}-{}'.format(i[:3], i[3:5], i[5:]), data))\n",
    "    elif params['type'] is 'String':\n",
    "        length = np.random.randint(params['min'], params['max'])\n",
    "        vectorized = np.vectorize(lambda x: '{}{}'.format(generate_random_string(length), x))\n",
    "        data = vectorized(np.arange(params['chunk_size']*params['chunk_pos'],params['chunk_size']*(1+params['chunk_pos'])))\n",
    "        data = np.random.permutation(data)\n",
    "    elif params['type'] is 'Integer':\n",
    "        data = np.arange(params['min'], params['max'])\n",
    "        data = np.random.permutation(data)\n",
    "    elif params['type'] is 'Float' or 'Datetime':\n",
    "        data = np.arange(params['min'], params['max'], (params['min'] - params['max']) / params['chunk_size'])\n",
    "    else:\n",
    "        data = None\n",
    "    return data"
   ]
  },
  {
   "cell_type": "code",
   "execution_count": 56,
   "metadata": {},
   "outputs": [
    {
     "name": "stdout",
     "output_type": "stream",
     "text": [
      "['nglo3' 'rstm0' 'bqqd4' 'eeem1' 'dxgo2']\n",
      "['uvo6' 'ssm7' 'kcf5' 'zjd9' 'xkd8']\n",
      "['vqr10' 'dla13' 'bor14' 'bgf11' 'ywc12']\n",
      "['srbt17' 'unyg15' 'uqiv19' 'xhyo18' 'fxgi16']\n",
      "['kafia24' 'hlsrx20' 'xfuwz22' 'ksydm23' 'deqft21']\n",
      "['ndbs26' 'dtrr25' 'tcxy29' 'dwau27' 'xkpi28']\n",
      "['imacm30' 'ejeou31' 'enwzh33' 'gnrmj34' 'mufst32']\n",
      "['krne39' 'ffra36' 'dttb37' 'gsga35' 'jyms38']\n",
      "['iam41' 'wqa42' 'hli44' 'lap43' 'ffs40']\n"
     ]
    }
   ],
   "source": [
    "parametros = {}\n",
    "parametros['type'] = 'String'\n",
    "parametros['chunk_size'] = 5\n",
    "parametros['total_chunks'] = 10\n",
    "parametros['min'] = 2\n",
    "parametros['max'] = 6\n",
    "#parametros['chunk_pos'] = 2 \n",
    "for i in np.arange(parametros['total_chunks']-1):\n",
    "    parametros['chunk_pos'] = i\n",
    "    values = generate_key_chunk(parametros)\n",
    "    print(values)"
   ]
  },
  {
   "cell_type": "code",
   "execution_count": 36,
   "metadata": {},
   "outputs": [
    {
     "data": {
      "text/plain": [
       "array([ 1, 10, 20, 30, 40, 50, 59, 69, 79, 89, 99])"
      ]
     },
     "execution_count": 36,
     "metadata": {},
     "output_type": "execute_result"
    }
   ],
   "source": [
    "np.linspace(1, 100 - 1, num=11, dtype=int)"
   ]
  },
  {
   "cell_type": "code",
   "execution_count": 43,
   "metadata": {},
   "outputs": [
    {
     "data": {
      "text/plain": [
       "14950"
      ]
     },
     "execution_count": 43,
     "metadata": {},
     "output_type": "execute_result"
    }
   ],
   "source": [
    "len(list(combinations(ascii_lowercase, 4)))"
   ]
  },
  {
   "cell_type": "code",
   "execution_count": null,
   "metadata": {},
   "outputs": [],
   "source": []
  }
 ],
 "metadata": {
  "kernelspec": {
   "display_name": "Python 3",
   "language": "python",
   "name": "python3"
  },
  "language_info": {
   "codemirror_mode": {
    "name": "ipython",
    "version": 3
   },
   "file_extension": ".py",
   "mimetype": "text/x-python",
   "name": "python",
   "nbconvert_exporter": "python",
   "pygments_lexer": "ipython3",
   "version": "3.6.3"
  }
 },
 "nbformat": 4,
 "nbformat_minor": 2
}
